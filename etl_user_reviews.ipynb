{
 "cells": [
  {
   "cell_type": "code",
   "execution_count": 1,
   "metadata": {},
   "outputs": [],
   "source": [
    "import numpy as np\n",
    "import pandas as pd\n",
    "import matplotlib.pyplot as plt\n",
    "import seaborn as sns\n",
    "import pyspark\n",
    "from pyspark.sql.functions import isnan, when, count, concat, lit, col, explode,replace, regexp_replace, udf,length, lower, regexp_replace, array_union, array_join\n",
    "from pyspark.sql import functions as F\n",
    "from pyspark.sql import SparkSession\n",
    "from pyspark import SparkContext\n",
    "from pyspark.sql.types import StructType, StructField, StringType, BooleanType,ArrayType\n",
    "from pyspark.ml.feature import Tokenizer, StopWordsRemover\n",
    "import pyspark.sql.utils\n",
    "import nltk\n",
    "from textblob import TextBlob\n",
    "from nltk.sentiment.vader import SentimentIntensityAnalyzer\n"
   ]
  },
  {
   "cell_type": "markdown",
   "metadata": {},
   "source": [
    "creamos sesion para usar pyspark\n"
   ]
  },
  {
   "cell_type": "code",
   "execution_count": 2,
   "metadata": {},
   "outputs": [],
   "source": [
    "SpSesion = SparkSession \\\n",
    "          .builder \\\n",
    "          .appName('etl') \\\n",
    "          .getOrCreate() "
   ]
  },
  {
   "cell_type": "code",
   "execution_count": 3,
   "metadata": {},
   "outputs": [],
   "source": [
    "SpContext = SpSesion.sparkContext"
   ]
  },
  {
   "cell_type": "markdown",
   "metadata": {},
   "source": [
    "vamos a cargar datos\n"
   ]
  },
  {
   "cell_type": "markdown",
   "metadata": {},
   "source": [
    "este archivo fue modificado con notepad++ usando expresiones regulares  cai 3 dias corrigiendo errores   para evitar tener records corrupts donde perdia casi el 80% del dataframe"
   ]
  },
  {
   "cell_type": "code",
   "execution_count": 4,
   "metadata": {},
   "outputs": [],
   "source": [
    "path = 'user_reviews_modificado2.json'"
   ]
  },
  {
   "cell_type": "code",
   "execution_count": 5,
   "metadata": {},
   "outputs": [],
   "source": [
    "schema = StructType([\n",
    "        StructField(\"user_id\", StringType()),\n",
    "        StructField(\"user_url\", StringType()),\n",
    "        StructField(\"reviews\", ArrayType(StructType([\n",
    "            StructField(\"funny\", StringType()),\n",
    "            StructField(\"posted\", StringType()),\n",
    "            StructField(\"last_edited\", StringType()),\n",
    "            StructField(\"item_id\", StringType()),\n",
    "            StructField(\"helpful\", StringType()),\n",
    "            StructField(\"recommend\", BooleanType()),\n",
    "            StructField(\"review\", StringType())\n",
    "    ])))\n",
    "])"
   ]
  },
  {
   "cell_type": "code",
   "execution_count": 6,
   "metadata": {},
   "outputs": [],
   "source": [
    "df = SpSesion.read.json(path,schema=schema)"
   ]
  },
  {
   "cell_type": "markdown",
   "metadata": {},
   "source": [
    "Vamos a pasar a explorar el archivo y ver de que se trata, tipos de columnas variables  etc\n"
   ]
  },
  {
   "cell_type": "code",
   "execution_count": 7,
   "metadata": {},
   "outputs": [
    {
     "name": "stdout",
     "output_type": "stream",
     "text": [
      "root\n",
      " |-- user_id: string (nullable = true)\n",
      " |-- user_url: string (nullable = true)\n",
      " |-- reviews: array (nullable = true)\n",
      " |    |-- element: struct (containsNull = true)\n",
      " |    |    |-- funny: string (nullable = true)\n",
      " |    |    |-- posted: string (nullable = true)\n",
      " |    |    |-- last_edited: string (nullable = true)\n",
      " |    |    |-- item_id: string (nullable = true)\n",
      " |    |    |-- helpful: string (nullable = true)\n",
      " |    |    |-- recommend: boolean (nullable = true)\n",
      " |    |    |-- review: string (nullable = true)\n",
      "\n"
     ]
    }
   ],
   "source": [
    "df.printSchema()"
   ]
  },
  {
   "cell_type": "code",
   "execution_count": 8,
   "metadata": {},
   "outputs": [
    {
     "name": "stdout",
     "output_type": "stream",
     "text": [
      "los tipod de tados son  para cada columna \n",
      " [('user_id', 'string'), ('user_url', 'string'), ('reviews', 'array<struct<funny:string,posted:string,last_edited:string,item_id:string,helpful:string,recommend:boolean,review:string>>')]\n",
      "\n",
      "tiene 3 columnas \n",
      "las columnas son \n",
      " ['user_id', 'user_url', 'reviews']\n",
      "\n",
      "el dataset tiene 25798 filas\n",
      "\n"
     ]
    }
   ],
   "source": [
    "print('los tipod de tados son  para cada columna \\n',df.dtypes)\n",
    "print()\n",
    "print(f'tiene {len(df.columns)} columnas ')\n",
    "print('las columnas son \\n',df.columns)\n",
    "print()\n",
    "print(f'el dataset tiene {df.count()} filas')\n",
    "print()\n",
    "\n"
   ]
  },
  {
   "cell_type": "code",
   "execution_count": 9,
   "metadata": {},
   "outputs": [
    {
     "data": {
      "text/plain": [
       "DataFrame[user_id: string, user_url: string, reviews: array<struct<funny:string,posted:string,last_edited:string,item_id:string,helpful:string,recommend:boolean,review:string>>]"
      ]
     },
     "execution_count": 9,
     "metadata": {},
     "output_type": "execute_result"
    }
   ],
   "source": [
    "df"
   ]
  },
  {
   "cell_type": "code",
   "execution_count": 10,
   "metadata": {},
   "outputs": [
    {
     "name": "stdout",
     "output_type": "stream",
     "text": [
      "root\n",
      " |-- user_id: string (nullable = true)\n",
      " |-- user_url: string (nullable = true)\n",
      " |-- reviews: array (nullable = true)\n",
      " |    |-- element: struct (containsNull = true)\n",
      " |    |    |-- funny: string (nullable = true)\n",
      " |    |    |-- posted: string (nullable = true)\n",
      " |    |    |-- last_edited: string (nullable = true)\n",
      " |    |    |-- item_id: string (nullable = true)\n",
      " |    |    |-- helpful: string (nullable = true)\n",
      " |    |    |-- recommend: boolean (nullable = true)\n",
      " |    |    |-- review: string (nullable = true)\n",
      "\n"
     ]
    }
   ],
   "source": [
    "df.printSchema()"
   ]
  },
  {
   "cell_type": "code",
   "execution_count": 11,
   "metadata": {},
   "outputs": [
    {
     "name": "stdout",
     "output_type": "stream",
     "text": [
      "+-----------------+--------------------+--------------------+\n",
      "|          user_id|            user_url|             reviews|\n",
      "+-----------------+--------------------+--------------------+\n",
      "|76561197970982479|http://steamcommu...|[{NULL, Posted No...|\n",
      "|          js41637|http://steamcommu...|[{NULL, Posted Ju...|\n",
      "|        evcentric|http://steamcommu...|[{NULL, Posted Fe...|\n",
      "|            doctr|http://steamcommu...|[{NULL, Posted Oc...|\n",
      "|        maplemage|http://steamcommu...|[{NULL, Posted Ap...|\n",
      "|           Wackky|http://steamcommu...|[{NULL, Posted Ma...|\n",
      "|76561198079601835|http://steamcommu...|[{NULL, Posted Ma...|\n",
      "|      MeaTCompany|http://steamcommu...|[{NULL, Posted Ju...|\n",
      "|76561198089393905|http://steamcommu...|[{NULL, Posted Fe...|\n",
      "|76561198156664158|http://steamcommu...|[{NULL, Posted Ju...|\n",
      "+-----------------+--------------------+--------------------+\n",
      "only showing top 10 rows\n",
      "\n"
     ]
    }
   ],
   "source": [
    "df.show(10)"
   ]
  },
  {
   "cell_type": "markdown",
   "metadata": {},
   "source": [
    "Comienza la limpieza borrando columnas que no usaremos"
   ]
  },
  {
   "cell_type": "code",
   "execution_count": 12,
   "metadata": {},
   "outputs": [],
   "source": [
    "df = df.drop('user_url')"
   ]
  },
  {
   "cell_type": "markdown",
   "metadata": {},
   "source": [
    "COMENZAMOS A OIRIENTAR EL etl PARA LO QUE PIDEN LOS ENDPOINTS DE fAST API"
   ]
  },
  {
   "cell_type": "code",
   "execution_count": 13,
   "metadata": {},
   "outputs": [
    {
     "name": "stdout",
     "output_type": "stream",
     "text": [
      "El dataset tiene 627 datos nulos en la columna 'reviews'\n"
     ]
    }
   ],
   "source": [
    "\n",
    "df_null_reviews = df.filter(df.reviews.isNull())\n",
    "num_null_rows = df_null_reviews.count()\n",
    "print(\"El dataset tiene\", num_null_rows, \"datos nulos en la columna 'reviews'\")"
   ]
  },
  {
   "cell_type": "markdown",
   "metadata": {},
   "source": [
    "hacemos el explode para poner al mismo nivellas subcolumnas que tiene nuestro dataset como vimos anteriormente en nuestro SChema"
   ]
  },
  {
   "cell_type": "code",
   "execution_count": 14,
   "metadata": {},
   "outputs": [],
   "source": [
    "\n",
    "df = df.withColumn(\"reviews\", explode(df.reviews))"
   ]
  },
  {
   "cell_type": "markdown",
   "metadata": {},
   "source": [
    "una vez creadas nuestras columnas donde seran alojado el explode anterior"
   ]
  },
  {
   "cell_type": "code",
   "execution_count": 15,
   "metadata": {},
   "outputs": [],
   "source": [
    "df = df.withColumn(\"funny\", col(\"reviews.funny\"))\n",
    "df = df.withColumn(\"posted\", col(\"reviews.posted\"))\n",
    "df = df.withColumn(\"last_edited\", col(\"reviews.last_edited\"))\n",
    "df = df.withColumn(\"item_id\", col(\"reviews.item_id\"))\n",
    "df = df.withColumn(\"helpful\", col(\"reviews.helpful\"))\n",
    "df = df.withColumn(\"recommend\", col(\"reviews.recommend\"))\n",
    "df = df.withColumn(\"review\", col(\"reviews.review\"))"
   ]
  },
  {
   "cell_type": "code",
   "execution_count": 16,
   "metadata": {},
   "outputs": [],
   "source": [
    "df = df.drop(\"reviews\") #borramos nuestro review que ya fue expandido"
   ]
  },
  {
   "cell_type": "code",
   "execution_count": 17,
   "metadata": {},
   "outputs": [
    {
     "name": "stdout",
     "output_type": "stream",
     "text": [
      "+-----------------+-----+-------------------------+-----------------------------+-------+-----------------------------------------------+---------+----------------------------------------------------------------------------------------------------------------------------------------------------------------------------------------------------------------------------------------------------------------------------------------------------------------------------------------------------------------------------------------------------------------------------------------------------------------------------------------------------------------------------------------------------------------------------------------------------------------------+\n",
      "|user_id          |funny|posted                   |last_edited                  |item_id|helpful                                        |recommend|review                                                                                                                                                                                                                                                                                                                                                                                                                                                                                                                                                                                                                |\n",
      "+-----------------+-----+-------------------------+-----------------------------+-------+-----------------------------------------------+---------+----------------------------------------------------------------------------------------------------------------------------------------------------------------------------------------------------------------------------------------------------------------------------------------------------------------------------------------------------------------------------------------------------------------------------------------------------------------------------------------------------------------------------------------------------------------------------------------------------------------------+\n",
      "|76561197970982479|NULL |Posted November 5, 2011. |                             |1250   |No ratings yet                                 |true     |Simple yet with great replayability. In my opinion does zombie hordes and team work better than left 4 dead plus has a global leveling system. Alot of down to earth zombie splattering fun for the whole family. Amazed this sort of FPS is so rare.                                                                                                                                                                                                                                                                                                                                                                 |\n",
      "|76561197970982479|NULL |Posted July 15, 2011.    |                             |22200  |No ratings yet                                 |true     |its unique and worth a playthrough.                                                                                                                                                                                                                                                                                                                                                                                                                                                                                                                                                                                   |\n",
      "|76561197970982479|NULL |Posted April 21, 2011.   |                             |43110  |No ratings yet                                 |true     |Great atmosphere. The gunplay can be a bit chunky at times but at the end of the day this game is definitely worth it and I hope they do a sequel...so buy the game so I get a sequel!                                                                                                                                                                                                                                                                                                                                                                                                                                |\n",
      "|js41637          |NULL |Posted June 24, 2014.    |                             |251610 |15 of 20 people (75%) found this review helpful|true     |I know what you think when you see this title Barbie Dreamhouse Party but do not be intimidated by its title, this is easily one of my GOTYs. You dont get any of that cliche game mechanics that all the latest games have, this is simply good core gameplay. Yes, you can't 360 noscope your friends, but what you can do is show them up with your bad ♥♥♥ dance moves and put them to shame as you show them what true fashion and color combinations are.I know this game says for kids but, this is easily for any age range and any age will have a blast playing this.8/8                                    |\n",
      "|js41637          |NULL |Posted September 8, 2013.|                             |227300 |0 of 1 people (0%) found this review helpful   |true     |For a simple (its actually not all that simple but it can be!) truck driving Simulator, it is quite a fun and relaxing game. Playing on simple (or easy?) its just the basic WASD keys for driving but (if you want) the game can be much harder and realistic with having to manually change gears, much harder turning, etc. And reversing in this game is a ♥♥♥♥♥, as I imagine it would be with an actual truck. Luckily, you dont have to reverse park it but you get extra points if you do cause it is bloody hard. But this is suprisingly a nice truck driving game and I had a bit of fun with it.          |\n",
      "|js41637          |NULL |Posted November 29, 2013.|                             |239030 |1 of 4 people (25%) found this review helpful  |true     |Very fun little game to play when your bored or as a time passer. Very gud. Do Recommend. pls buy                                                                                                                                                                                                                                                                                                                                                                                                                                                                                                                     |\n",
      "|evcentric        |NULL |Posted February 3.       |                             |248820 |No ratings yet                                 |true     |A suitably punishing roguelike platformer.  Winning feels good.  Progressive unlocks mean a good slog ending in failure doesnt feel like a waste.                                                                                                                                                                                                                                                                                                                                                                                                                                                                     |\n",
      "|evcentric        |NULL |Posted December 4, 2015. |Last edited December 5, 2015.|370360 |No ratings yet                                 |true     |Run for fun? What the hell kind of fun is that?                                                                                                                                                                                                                                                                                                                                                                                                                                                                                                                                                                       |\n",
      "|evcentric        |NULL |Posted November 3, 2014. |                             |237930 |No ratings yet                                 |true     |Elegant integration of gameplay, story, world development and aesthetic.                                                                                                                                                                                                                                                                                                                                                                                                                                                                                                                                              |\n",
      "|evcentric        |NULL |Posted October 15, 2014. |                             |263360 |No ratings yet                                 |true     |Random drops and random quests, with stat points.  Animation style reminiscent of the era before the Voodoo card.                                                                                                                                                                                                                                                                                                                                                                                                                                                                                                     |\n",
      "|evcentric        |NULL |Posted October 15, 2014. |                             |107200 |No ratings yet                                 |true     |Fun balance of tactics and strategy.  Potential for very rewarding battles on smaller maps.  Can become a bit of a grind on larger maps (>200 stars).                                                                                                                                                                                                                                                                                                                                                                                                                                                                 |\n",
      "|evcentric        |NULL |Posted October 15, 2014. |                             |224500 |No ratings yet                                 |true     |Fun world builder, with plenty of option of how you want challenge served to you.  Gnome pathing sometimes frustrating if you expand very very quickly.                                                                                                                                                                                                                                                                                                                                                                                                                                                               |\n",
      "|doctr            |NULL |Posted October 14, 2013. |                             |250320 |2 of 2 people (100%) found this review helpful |true     |This game... is so fun. The fight sequences have been improved from walking dead. It also includes more of a Sam and Max puzzle solving (some of it in the first episode) and walking dead. The game also gets even more better if you have read the Fables comic books, which are without a doubt, very good. The music is also superb and fit the scenarios very well.                                                                                                                                                                                                                                              |\n",
      "|doctr            |NULL |Posted July 28, 2012.    |                             |20920  |1 of 1 people (100%) found this review helpful |true     |Really Really Really Great Game, very good story, im in chapter 1 atm and i think its great. You get a really early link with characters. No need to play the first game, its nicely wrapped up for you in a five minute video. FYI beware of the sex scenes :P, nudity does happen in the game and it shows you actually having sex, so try not to play with your parents around if your near a point in the story. Also you will need a good rig/comp to play on high. dont even try running the game on Ultra unless you have mulitiple gpu s (Graphics card) and ram and a good processor. All in all good game :D|\n",
      "|doctr            |NULL |Posted June 2, 2012.     |                             |204100 |1 of 1 people (100%) found this review helpful |true     |Just buy it already. Great Story, Great Multiplayer and good fan service. Just awesome game. Just using shootdodge and bullet time makes you feel like a badass. Also, its better if you get the max payne story recapped or replay the first two but its not necessary.                                                                                                                                                                                                                                                                                                                                              |\n",
      "|doctr            |NULL |Posted June 29, 2014.    |                             |224600 |1 of 2 people (50%) found this review helpful  |true     |It was a great game from what I played, right now I need to find the actual download.                                                                                                                                                                                                                                                                                                                                                                                                                                                                                                                                 |\n",
      "|doctr            |NULL |Posted November 22, 2012.|                             |207610 |No ratings yet                                 |true     |The ending to this game is.... ♥♥♥♥♥♥♥.... Just buy it, you will be invested, im automatically preordering season two of the walking dead game.                                                                                                                                                                                                                                                                                                                                                                                                                                                                       |\n",
      "|doctr            |NULL |Posted February 23, 2012.|                             |108710 |No ratings yet                                 |true     |Alan wake is a really good game, the light effects are pretty awesome and this game is so good, it paid back remedy their promotion and conversion fees in the first two days on steam. Its awesome :D. Remedy can still make video games, even if its not Max Payne. It is also very character driven.                                                                                                                                                                                                                                                                                                               |\n",
      "|maplemage        |NULL |Posted April 15, 2014.   |                             |211420 |35 of 43 people (81%) found this review helpful|true     |Git gud                                                                                                                                                                                                                                                                                                                                                                                                                                                                                                                                                                                                               |\n",
      "|maplemage        |NULL |Posted December 23, 2013.|                             |211820 |12 of 16 people (75%) found this review helpful|true     |its like Terraria, you play for 9 hours straight, get endgame armour then stop playing until the next update.                                                                                                                                                                                                                                                                                                                                                                                                                                                                                                         |\n",
      "+-----------------+-----+-------------------------+-----------------------------+-------+-----------------------------------------------+---------+----------------------------------------------------------------------------------------------------------------------------------------------------------------------------------------------------------------------------------------------------------------------------------------------------------------------------------------------------------------------------------------------------------------------------------------------------------------------------------------------------------------------------------------------------------------------------------------------------------------------+\n",
      "only showing top 20 rows\n",
      "\n"
     ]
    }
   ],
   "source": [
    "df.show(truncate=False)"
   ]
  },
  {
   "cell_type": "markdown",
   "metadata": {},
   "source": [
    "saco columnas que no utilizaremos"
   ]
  },
  {
   "cell_type": "code",
   "execution_count": 18,
   "metadata": {},
   "outputs": [],
   "source": [
    "df = df.drop('funny')\n",
    "df = df.drop('helpful')\n",
    "df = df.drop('last_edited')\n",
    "df = df.drop('recommend')"
   ]
  },
  {
   "cell_type": "code",
   "execution_count": 19,
   "metadata": {},
   "outputs": [
    {
     "name": "stdout",
     "output_type": "stream",
     "text": [
      "+-----------------+-------------------------+-------+----------------------------------------------------------------------------------------------------------------------------------------------------------------------------------------------------------------------------------------------------------------------------------------------------------------------------------------------------------------------------------------------------------------------------------------------------------------------------------------------------------------------------------------------------------------------------------------------------------------------+\n",
      "|user_id          |posted                   |item_id|review                                                                                                                                                                                                                                                                                                                                                                                                                                                                                                                                                                                                                |\n",
      "+-----------------+-------------------------+-------+----------------------------------------------------------------------------------------------------------------------------------------------------------------------------------------------------------------------------------------------------------------------------------------------------------------------------------------------------------------------------------------------------------------------------------------------------------------------------------------------------------------------------------------------------------------------------------------------------------------------+\n",
      "|76561197970982479|Posted November 5, 2011. |1250   |Simple yet with great replayability. In my opinion does zombie hordes and team work better than left 4 dead plus has a global leveling system. Alot of down to earth zombie splattering fun for the whole family. Amazed this sort of FPS is so rare.                                                                                                                                                                                                                                                                                                                                                                 |\n",
      "|76561197970982479|Posted July 15, 2011.    |22200  |its unique and worth a playthrough.                                                                                                                                                                                                                                                                                                                                                                                                                                                                                                                                                                                   |\n",
      "|76561197970982479|Posted April 21, 2011.   |43110  |Great atmosphere. The gunplay can be a bit chunky at times but at the end of the day this game is definitely worth it and I hope they do a sequel...so buy the game so I get a sequel!                                                                                                                                                                                                                                                                                                                                                                                                                                |\n",
      "|js41637          |Posted June 24, 2014.    |251610 |I know what you think when you see this title Barbie Dreamhouse Party but do not be intimidated by its title, this is easily one of my GOTYs. You dont get any of that cliche game mechanics that all the latest games have, this is simply good core gameplay. Yes, you can't 360 noscope your friends, but what you can do is show them up with your bad ♥♥♥ dance moves and put them to shame as you show them what true fashion and color combinations are.I know this game says for kids but, this is easily for any age range and any age will have a blast playing this.8/8                                    |\n",
      "|js41637          |Posted September 8, 2013.|227300 |For a simple (its actually not all that simple but it can be!) truck driving Simulator, it is quite a fun and relaxing game. Playing on simple (or easy?) its just the basic WASD keys for driving but (if you want) the game can be much harder and realistic with having to manually change gears, much harder turning, etc. And reversing in this game is a ♥♥♥♥♥, as I imagine it would be with an actual truck. Luckily, you dont have to reverse park it but you get extra points if you do cause it is bloody hard. But this is suprisingly a nice truck driving game and I had a bit of fun with it.          |\n",
      "|js41637          |Posted November 29, 2013.|239030 |Very fun little game to play when your bored or as a time passer. Very gud. Do Recommend. pls buy                                                                                                                                                                                                                                                                                                                                                                                                                                                                                                                     |\n",
      "|evcentric        |Posted February 3.       |248820 |A suitably punishing roguelike platformer.  Winning feels good.  Progressive unlocks mean a good slog ending in failure doesnt feel like a waste.                                                                                                                                                                                                                                                                                                                                                                                                                                                                     |\n",
      "|evcentric        |Posted December 4, 2015. |370360 |Run for fun? What the hell kind of fun is that?                                                                                                                                                                                                                                                                                                                                                                                                                                                                                                                                                                       |\n",
      "|evcentric        |Posted November 3, 2014. |237930 |Elegant integration of gameplay, story, world development and aesthetic.                                                                                                                                                                                                                                                                                                                                                                                                                                                                                                                                              |\n",
      "|evcentric        |Posted October 15, 2014. |263360 |Random drops and random quests, with stat points.  Animation style reminiscent of the era before the Voodoo card.                                                                                                                                                                                                                                                                                                                                                                                                                                                                                                     |\n",
      "|evcentric        |Posted October 15, 2014. |107200 |Fun balance of tactics and strategy.  Potential for very rewarding battles on smaller maps.  Can become a bit of a grind on larger maps (>200 stars).                                                                                                                                                                                                                                                                                                                                                                                                                                                                 |\n",
      "|evcentric        |Posted October 15, 2014. |224500 |Fun world builder, with plenty of option of how you want challenge served to you.  Gnome pathing sometimes frustrating if you expand very very quickly.                                                                                                                                                                                                                                                                                                                                                                                                                                                               |\n",
      "|doctr            |Posted October 14, 2013. |250320 |This game... is so fun. The fight sequences have been improved from walking dead. It also includes more of a Sam and Max puzzle solving (some of it in the first episode) and walking dead. The game also gets even more better if you have read the Fables comic books, which are without a doubt, very good. The music is also superb and fit the scenarios very well.                                                                                                                                                                                                                                              |\n",
      "|doctr            |Posted July 28, 2012.    |20920  |Really Really Really Great Game, very good story, im in chapter 1 atm and i think its great. You get a really early link with characters. No need to play the first game, its nicely wrapped up for you in a five minute video. FYI beware of the sex scenes :P, nudity does happen in the game and it shows you actually having sex, so try not to play with your parents around if your near a point in the story. Also you will need a good rig/comp to play on high. dont even try running the game on Ultra unless you have mulitiple gpu s (Graphics card) and ram and a good processor. All in all good game :D|\n",
      "|doctr            |Posted June 2, 2012.     |204100 |Just buy it already. Great Story, Great Multiplayer and good fan service. Just awesome game. Just using shootdodge and bullet time makes you feel like a badass. Also, its better if you get the max payne story recapped or replay the first two but its not necessary.                                                                                                                                                                                                                                                                                                                                              |\n",
      "|doctr            |Posted June 29, 2014.    |224600 |It was a great game from what I played, right now I need to find the actual download.                                                                                                                                                                                                                                                                                                                                                                                                                                                                                                                                 |\n",
      "|doctr            |Posted November 22, 2012.|207610 |The ending to this game is.... ♥♥♥♥♥♥♥.... Just buy it, you will be invested, im automatically preordering season two of the walking dead game.                                                                                                                                                                                                                                                                                                                                                                                                                                                                       |\n",
      "|doctr            |Posted February 23, 2012.|108710 |Alan wake is a really good game, the light effects are pretty awesome and this game is so good, it paid back remedy their promotion and conversion fees in the first two days on steam. Its awesome :D. Remedy can still make video games, even if its not Max Payne. It is also very character driven.                                                                                                                                                                                                                                                                                                               |\n",
      "|maplemage        |Posted April 15, 2014.   |211420 |Git gud                                                                                                                                                                                                                                                                                                                                                                                                                                                                                                                                                                                                               |\n",
      "|maplemage        |Posted December 23, 2013.|211820 |its like Terraria, you play for 9 hours straight, get endgame armour then stop playing until the next update.                                                                                                                                                                                                                                                                                                                                                                                                                                                                                                         |\n",
      "+-----------------+-------------------------+-------+----------------------------------------------------------------------------------------------------------------------------------------------------------------------------------------------------------------------------------------------------------------------------------------------------------------------------------------------------------------------------------------------------------------------------------------------------------------------------------------------------------------------------------------------------------------------------------------------------------------------+\n",
      "only showing top 20 rows\n",
      "\n"
     ]
    }
   ],
   "source": [
    "df.show(truncate=False)"
   ]
  },
  {
   "cell_type": "markdown",
   "metadata": {},
   "source": [
    "seguimos trabjando para darle forma a nuestro Dataset para poder hacer un analisis de sentimiento a nuestra nueva column review"
   ]
  },
  {
   "cell_type": "code",
   "execution_count": 21,
   "metadata": {},
   "outputs": [
    {
     "name": "stdout",
     "output_type": "stream",
     "text": [
      "Número total de filas: 56642\n",
      "Número de review distintos 52685\n",
      "Número de review con valores nulos: 0\n",
      "Número de review repetidos: 3957\n",
      "Número de usuarios diferentes: 24837\n"
     ]
    }
   ],
   "source": [
    "total_rows = df.count()\n",
    "unique_apps = df.select(\"review\").distinct().count()\n",
    "usuarios_diferentes = df.select(\"user_id\").distinct().count()\n",
    "null_apps = df.filter(col(\"review\").isNull()).count()\n",
    "repeated_apps = total_rows - unique_apps - null_apps\n",
    "\n",
    "print(\"Número total de filas:\", total_rows)\n",
    "print(\"Número de review distintos\", unique_apps)\n",
    "print(\"Número de review con valores nulos:\", null_apps)\n",
    "print(\"Número de review repetidos:\", repeated_apps)\n",
    "print(\"Número de usuarios diferentes:\", usuarios_diferentes)"
   ]
  },
  {
   "cell_type": "markdown",
   "metadata": {},
   "source": [
    "Ahora haremos trabajando unicamente con el dataframe en pandas  , ahora que hemos acomodado nuestro Dataframe mucho mejor"
   ]
  },
  {
   "cell_type": "code",
   "execution_count": 22,
   "metadata": {},
   "outputs": [],
   "source": [
    "pandas_dataset = df.toPandas()"
   ]
  },
  {
   "cell_type": "code",
   "execution_count": 23,
   "metadata": {},
   "outputs": [
    {
     "data": {
      "text/html": [
       "<div>\n",
       "<style scoped>\n",
       "    .dataframe tbody tr th:only-of-type {\n",
       "        vertical-align: middle;\n",
       "    }\n",
       "\n",
       "    .dataframe tbody tr th {\n",
       "        vertical-align: top;\n",
       "    }\n",
       "\n",
       "    .dataframe thead th {\n",
       "        text-align: right;\n",
       "    }\n",
       "</style>\n",
       "<table border=\"1\" class=\"dataframe\">\n",
       "  <thead>\n",
       "    <tr style=\"text-align: right;\">\n",
       "      <th></th>\n",
       "      <th>user_id</th>\n",
       "      <th>posted</th>\n",
       "      <th>item_id</th>\n",
       "      <th>review</th>\n",
       "    </tr>\n",
       "  </thead>\n",
       "  <tbody>\n",
       "    <tr>\n",
       "      <th>0</th>\n",
       "      <td>76561197970982479</td>\n",
       "      <td>Posted November 5, 2011.</td>\n",
       "      <td>1250</td>\n",
       "      <td>Simple yet with great replayability. In my opi...</td>\n",
       "    </tr>\n",
       "    <tr>\n",
       "      <th>1</th>\n",
       "      <td>76561197970982479</td>\n",
       "      <td>Posted July 15, 2011.</td>\n",
       "      <td>22200</td>\n",
       "      <td>its unique and worth a playthrough.</td>\n",
       "    </tr>\n",
       "    <tr>\n",
       "      <th>2</th>\n",
       "      <td>76561197970982479</td>\n",
       "      <td>Posted April 21, 2011.</td>\n",
       "      <td>43110</td>\n",
       "      <td>Great atmosphere. The gunplay can be a bit chu...</td>\n",
       "    </tr>\n",
       "    <tr>\n",
       "      <th>3</th>\n",
       "      <td>js41637</td>\n",
       "      <td>Posted June 24, 2014.</td>\n",
       "      <td>251610</td>\n",
       "      <td>I know what you think when you see this title ...</td>\n",
       "    </tr>\n",
       "    <tr>\n",
       "      <th>4</th>\n",
       "      <td>js41637</td>\n",
       "      <td>Posted September 8, 2013.</td>\n",
       "      <td>227300</td>\n",
       "      <td>For a simple (its actually not all that simple...</td>\n",
       "    </tr>\n",
       "    <tr>\n",
       "      <th>...</th>\n",
       "      <td>...</td>\n",
       "      <td>...</td>\n",
       "      <td>...</td>\n",
       "      <td>...</td>\n",
       "    </tr>\n",
       "    <tr>\n",
       "      <th>56637</th>\n",
       "      <td>76561198312638244</td>\n",
       "      <td>Posted July 10.</td>\n",
       "      <td>70</td>\n",
       "      <td>a must have classic from steam definitely wort...</td>\n",
       "    </tr>\n",
       "    <tr>\n",
       "      <th>56638</th>\n",
       "      <td>76561198312638244</td>\n",
       "      <td>Posted July 8.</td>\n",
       "      <td>362890</td>\n",
       "      <td>this game is a perfect remake of the original ...</td>\n",
       "    </tr>\n",
       "    <tr>\n",
       "      <th>56639</th>\n",
       "      <td>LydiaMorley</td>\n",
       "      <td>Posted July 3.</td>\n",
       "      <td>273110</td>\n",
       "      <td>had so much fun plaing this and collecting res...</td>\n",
       "    </tr>\n",
       "    <tr>\n",
       "      <th>56640</th>\n",
       "      <td>LydiaMorley</td>\n",
       "      <td>Posted July 20.</td>\n",
       "      <td>730</td>\n",
       "      <td>:D</td>\n",
       "    </tr>\n",
       "    <tr>\n",
       "      <th>56641</th>\n",
       "      <td>LydiaMorley</td>\n",
       "      <td>Posted July 2.</td>\n",
       "      <td>440</td>\n",
       "      <td>so much fun :D</td>\n",
       "    </tr>\n",
       "  </tbody>\n",
       "</table>\n",
       "<p>56642 rows × 4 columns</p>\n",
       "</div>"
      ],
      "text/plain": [
       "                 user_id                     posted item_id  \\\n",
       "0      76561197970982479   Posted November 5, 2011.    1250   \n",
       "1      76561197970982479      Posted July 15, 2011.   22200   \n",
       "2      76561197970982479     Posted April 21, 2011.   43110   \n",
       "3                js41637      Posted June 24, 2014.  251610   \n",
       "4                js41637  Posted September 8, 2013.  227300   \n",
       "...                  ...                        ...     ...   \n",
       "56637  76561198312638244            Posted July 10.      70   \n",
       "56638  76561198312638244             Posted July 8.  362890   \n",
       "56639        LydiaMorley             Posted July 3.  273110   \n",
       "56640        LydiaMorley            Posted July 20.     730   \n",
       "56641        LydiaMorley             Posted July 2.     440   \n",
       "\n",
       "                                                  review  \n",
       "0      Simple yet with great replayability. In my opi...  \n",
       "1                    its unique and worth a playthrough.  \n",
       "2      Great atmosphere. The gunplay can be a bit chu...  \n",
       "3      I know what you think when you see this title ...  \n",
       "4      For a simple (its actually not all that simple...  \n",
       "...                                                  ...  \n",
       "56637  a must have classic from steam definitely wort...  \n",
       "56638  this game is a perfect remake of the original ...  \n",
       "56639  had so much fun plaing this and collecting res...  \n",
       "56640                                                 :D  \n",
       "56641                                     so much fun :D  \n",
       "\n",
       "[56642 rows x 4 columns]"
      ]
     },
     "execution_count": 23,
     "metadata": {},
     "output_type": "execute_result"
    }
   ],
   "source": [
    "pandas_dataset"
   ]
  },
  {
   "cell_type": "markdown",
   "metadata": {},
   "source": [
    "sacamos los valores nulos de nuestros comentarios, convertimos a str la columna por las dudas y ponemos en minuscula ya que es un requisito de normalizacion para aplicar la libreria  "
   ]
  },
  {
   "cell_type": "code",
   "execution_count": 24,
   "metadata": {},
   "outputs": [],
   "source": [
    "pandas_dataset['review'] = pandas_dataset['review'].astype(str)\n",
    "pandas_dataset.dropna(subset=['review'], inplace=True)  # Elimina las filas con valores nulos en 'review'\n",
    "pandas_dataset['review'] = pandas_dataset['review'].str.lower()"
   ]
  },
  {
   "cell_type": "code",
   "execution_count": 25,
   "metadata": {},
   "outputs": [
    {
     "data": {
      "text/html": [
       "<div>\n",
       "<style scoped>\n",
       "    .dataframe tbody tr th:only-of-type {\n",
       "        vertical-align: middle;\n",
       "    }\n",
       "\n",
       "    .dataframe tbody tr th {\n",
       "        vertical-align: top;\n",
       "    }\n",
       "\n",
       "    .dataframe thead th {\n",
       "        text-align: right;\n",
       "    }\n",
       "</style>\n",
       "<table border=\"1\" class=\"dataframe\">\n",
       "  <thead>\n",
       "    <tr style=\"text-align: right;\">\n",
       "      <th></th>\n",
       "      <th>user_id</th>\n",
       "      <th>posted</th>\n",
       "      <th>item_id</th>\n",
       "      <th>review</th>\n",
       "    </tr>\n",
       "  </thead>\n",
       "  <tbody>\n",
       "    <tr>\n",
       "      <th>0</th>\n",
       "      <td>76561197970982479</td>\n",
       "      <td>Posted November 5, 2011.</td>\n",
       "      <td>1250</td>\n",
       "      <td>simple yet with great replayability. in my opi...</td>\n",
       "    </tr>\n",
       "    <tr>\n",
       "      <th>1</th>\n",
       "      <td>76561197970982479</td>\n",
       "      <td>Posted July 15, 2011.</td>\n",
       "      <td>22200</td>\n",
       "      <td>its unique and worth a playthrough.</td>\n",
       "    </tr>\n",
       "    <tr>\n",
       "      <th>2</th>\n",
       "      <td>76561197970982479</td>\n",
       "      <td>Posted April 21, 2011.</td>\n",
       "      <td>43110</td>\n",
       "      <td>great atmosphere. the gunplay can be a bit chu...</td>\n",
       "    </tr>\n",
       "    <tr>\n",
       "      <th>3</th>\n",
       "      <td>js41637</td>\n",
       "      <td>Posted June 24, 2014.</td>\n",
       "      <td>251610</td>\n",
       "      <td>i know what you think when you see this title ...</td>\n",
       "    </tr>\n",
       "    <tr>\n",
       "      <th>4</th>\n",
       "      <td>js41637</td>\n",
       "      <td>Posted September 8, 2013.</td>\n",
       "      <td>227300</td>\n",
       "      <td>for a simple (its actually not all that simple...</td>\n",
       "    </tr>\n",
       "    <tr>\n",
       "      <th>...</th>\n",
       "      <td>...</td>\n",
       "      <td>...</td>\n",
       "      <td>...</td>\n",
       "      <td>...</td>\n",
       "    </tr>\n",
       "    <tr>\n",
       "      <th>56637</th>\n",
       "      <td>76561198312638244</td>\n",
       "      <td>Posted July 10.</td>\n",
       "      <td>70</td>\n",
       "      <td>a must have classic from steam definitely wort...</td>\n",
       "    </tr>\n",
       "    <tr>\n",
       "      <th>56638</th>\n",
       "      <td>76561198312638244</td>\n",
       "      <td>Posted July 8.</td>\n",
       "      <td>362890</td>\n",
       "      <td>this game is a perfect remake of the original ...</td>\n",
       "    </tr>\n",
       "    <tr>\n",
       "      <th>56639</th>\n",
       "      <td>LydiaMorley</td>\n",
       "      <td>Posted July 3.</td>\n",
       "      <td>273110</td>\n",
       "      <td>had so much fun plaing this and collecting res...</td>\n",
       "    </tr>\n",
       "    <tr>\n",
       "      <th>56640</th>\n",
       "      <td>LydiaMorley</td>\n",
       "      <td>Posted July 20.</td>\n",
       "      <td>730</td>\n",
       "      <td>:d</td>\n",
       "    </tr>\n",
       "    <tr>\n",
       "      <th>56641</th>\n",
       "      <td>LydiaMorley</td>\n",
       "      <td>Posted July 2.</td>\n",
       "      <td>440</td>\n",
       "      <td>so much fun :d</td>\n",
       "    </tr>\n",
       "  </tbody>\n",
       "</table>\n",
       "<p>56642 rows × 4 columns</p>\n",
       "</div>"
      ],
      "text/plain": [
       "                 user_id                     posted item_id  \\\n",
       "0      76561197970982479   Posted November 5, 2011.    1250   \n",
       "1      76561197970982479      Posted July 15, 2011.   22200   \n",
       "2      76561197970982479     Posted April 21, 2011.   43110   \n",
       "3                js41637      Posted June 24, 2014.  251610   \n",
       "4                js41637  Posted September 8, 2013.  227300   \n",
       "...                  ...                        ...     ...   \n",
       "56637  76561198312638244            Posted July 10.      70   \n",
       "56638  76561198312638244             Posted July 8.  362890   \n",
       "56639        LydiaMorley             Posted July 3.  273110   \n",
       "56640        LydiaMorley            Posted July 20.     730   \n",
       "56641        LydiaMorley             Posted July 2.     440   \n",
       "\n",
       "                                                  review  \n",
       "0      simple yet with great replayability. in my opi...  \n",
       "1                    its unique and worth a playthrough.  \n",
       "2      great atmosphere. the gunplay can be a bit chu...  \n",
       "3      i know what you think when you see this title ...  \n",
       "4      for a simple (its actually not all that simple...  \n",
       "...                                                  ...  \n",
       "56637  a must have classic from steam definitely wort...  \n",
       "56638  this game is a perfect remake of the original ...  \n",
       "56639  had so much fun plaing this and collecting res...  \n",
       "56640                                                 :d  \n",
       "56641                                     so much fun :d  \n",
       "\n",
       "[56642 rows x 4 columns]"
      ]
     },
     "execution_count": 25,
     "metadata": {},
     "output_type": "execute_result"
    }
   ],
   "source": [
    "pandas_dataset"
   ]
  },
  {
   "cell_type": "markdown",
   "metadata": {},
   "source": [
    "Creamos la funcion para usar usar la lib TextBlob"
   ]
  },
  {
   "cell_type": "code",
   "execution_count": 26,
   "metadata": {},
   "outputs": [],
   "source": [
    "def get_sentiment(text):\n",
    "    analysis = TextBlob(str(text))\n",
    "    if analysis.sentiment.polarity > 0:\n",
    "        return 'buena'\n",
    "    elif analysis.sentiment.polarity == 0:\n",
    "        return 'neutral'\n",
    "    else:\n",
    "        return 'mala'\n"
   ]
  },
  {
   "cell_type": "markdown",
   "metadata": {},
   "source": [
    "creamos la columna sentiment haciendo el apply de la funcion get sentiment"
   ]
  },
  {
   "cell_type": "code",
   "execution_count": 27,
   "metadata": {},
   "outputs": [],
   "source": [
    "pandas_dataset['sentiment'] = pandas_dataset['review'].apply(get_sentiment)"
   ]
  },
  {
   "cell_type": "code",
   "execution_count": 28,
   "metadata": {},
   "outputs": [
    {
     "data": {
      "text/html": [
       "<div>\n",
       "<style scoped>\n",
       "    .dataframe tbody tr th:only-of-type {\n",
       "        vertical-align: middle;\n",
       "    }\n",
       "\n",
       "    .dataframe tbody tr th {\n",
       "        vertical-align: top;\n",
       "    }\n",
       "\n",
       "    .dataframe thead th {\n",
       "        text-align: right;\n",
       "    }\n",
       "</style>\n",
       "<table border=\"1\" class=\"dataframe\">\n",
       "  <thead>\n",
       "    <tr style=\"text-align: right;\">\n",
       "      <th></th>\n",
       "      <th>user_id</th>\n",
       "      <th>posted</th>\n",
       "      <th>item_id</th>\n",
       "      <th>review</th>\n",
       "      <th>sentiment</th>\n",
       "    </tr>\n",
       "  </thead>\n",
       "  <tbody>\n",
       "    <tr>\n",
       "      <th>0</th>\n",
       "      <td>76561197970982479</td>\n",
       "      <td>Posted November 5, 2011.</td>\n",
       "      <td>1250</td>\n",
       "      <td>simple yet with great replayability. in my opi...</td>\n",
       "      <td>buena</td>\n",
       "    </tr>\n",
       "    <tr>\n",
       "      <th>1</th>\n",
       "      <td>76561197970982479</td>\n",
       "      <td>Posted July 15, 2011.</td>\n",
       "      <td>22200</td>\n",
       "      <td>its unique and worth a playthrough.</td>\n",
       "      <td>buena</td>\n",
       "    </tr>\n",
       "    <tr>\n",
       "      <th>2</th>\n",
       "      <td>76561197970982479</td>\n",
       "      <td>Posted April 21, 2011.</td>\n",
       "      <td>43110</td>\n",
       "      <td>great atmosphere. the gunplay can be a bit chu...</td>\n",
       "      <td>buena</td>\n",
       "    </tr>\n",
       "    <tr>\n",
       "      <th>3</th>\n",
       "      <td>js41637</td>\n",
       "      <td>Posted June 24, 2014.</td>\n",
       "      <td>251610</td>\n",
       "      <td>i know what you think when you see this title ...</td>\n",
       "      <td>buena</td>\n",
       "    </tr>\n",
       "    <tr>\n",
       "      <th>4</th>\n",
       "      <td>js41637</td>\n",
       "      <td>Posted September 8, 2013.</td>\n",
       "      <td>227300</td>\n",
       "      <td>for a simple (its actually not all that simple...</td>\n",
       "      <td>mala</td>\n",
       "    </tr>\n",
       "    <tr>\n",
       "      <th>...</th>\n",
       "      <td>...</td>\n",
       "      <td>...</td>\n",
       "      <td>...</td>\n",
       "      <td>...</td>\n",
       "      <td>...</td>\n",
       "    </tr>\n",
       "    <tr>\n",
       "      <th>56637</th>\n",
       "      <td>76561198312638244</td>\n",
       "      <td>Posted July 10.</td>\n",
       "      <td>70</td>\n",
       "      <td>a must have classic from steam definitely wort...</td>\n",
       "      <td>buena</td>\n",
       "    </tr>\n",
       "    <tr>\n",
       "      <th>56638</th>\n",
       "      <td>76561198312638244</td>\n",
       "      <td>Posted July 8.</td>\n",
       "      <td>362890</td>\n",
       "      <td>this game is a perfect remake of the original ...</td>\n",
       "      <td>buena</td>\n",
       "    </tr>\n",
       "    <tr>\n",
       "      <th>56639</th>\n",
       "      <td>LydiaMorley</td>\n",
       "      <td>Posted July 3.</td>\n",
       "      <td>273110</td>\n",
       "      <td>had so much fun plaing this and collecting res...</td>\n",
       "      <td>buena</td>\n",
       "    </tr>\n",
       "    <tr>\n",
       "      <th>56640</th>\n",
       "      <td>LydiaMorley</td>\n",
       "      <td>Posted July 20.</td>\n",
       "      <td>730</td>\n",
       "      <td>:d</td>\n",
       "      <td>neutral</td>\n",
       "    </tr>\n",
       "    <tr>\n",
       "      <th>56641</th>\n",
       "      <td>LydiaMorley</td>\n",
       "      <td>Posted July 2.</td>\n",
       "      <td>440</td>\n",
       "      <td>so much fun :d</td>\n",
       "      <td>buena</td>\n",
       "    </tr>\n",
       "  </tbody>\n",
       "</table>\n",
       "<p>56642 rows × 5 columns</p>\n",
       "</div>"
      ],
      "text/plain": [
       "                 user_id                     posted item_id  \\\n",
       "0      76561197970982479   Posted November 5, 2011.    1250   \n",
       "1      76561197970982479      Posted July 15, 2011.   22200   \n",
       "2      76561197970982479     Posted April 21, 2011.   43110   \n",
       "3                js41637      Posted June 24, 2014.  251610   \n",
       "4                js41637  Posted September 8, 2013.  227300   \n",
       "...                  ...                        ...     ...   \n",
       "56637  76561198312638244            Posted July 10.      70   \n",
       "56638  76561198312638244             Posted July 8.  362890   \n",
       "56639        LydiaMorley             Posted July 3.  273110   \n",
       "56640        LydiaMorley            Posted July 20.     730   \n",
       "56641        LydiaMorley             Posted July 2.     440   \n",
       "\n",
       "                                                  review sentiment  \n",
       "0      simple yet with great replayability. in my opi...     buena  \n",
       "1                    its unique and worth a playthrough.     buena  \n",
       "2      great atmosphere. the gunplay can be a bit chu...     buena  \n",
       "3      i know what you think when you see this title ...     buena  \n",
       "4      for a simple (its actually not all that simple...      mala  \n",
       "...                                                  ...       ...  \n",
       "56637  a must have classic from steam definitely wort...     buena  \n",
       "56638  this game is a perfect remake of the original ...     buena  \n",
       "56639  had so much fun plaing this and collecting res...     buena  \n",
       "56640                                                 :d   neutral  \n",
       "56641                                     so much fun :d     buena  \n",
       "\n",
       "[56642 rows x 5 columns]"
      ]
     },
     "execution_count": 28,
     "metadata": {},
     "output_type": "execute_result"
    }
   ],
   "source": [
    "pandas_dataset"
   ]
  },
  {
   "cell_type": "markdown",
   "metadata": {},
   "source": [
    "borramos columna review  para alivianar nuestro dataset"
   ]
  },
  {
   "cell_type": "code",
   "execution_count": 29,
   "metadata": {},
   "outputs": [],
   "source": [
    "pandas_dataset = pandas_dataset.drop('review', axis=1)\n"
   ]
  },
  {
   "cell_type": "markdown",
   "metadata": {},
   "source": [
    "preparamos la columna posted para extraer y convertir a date time"
   ]
  },
  {
   "cell_type": "code",
   "execution_count": 30,
   "metadata": {},
   "outputs": [],
   "source": [
    "pandas_dataset['posted'] = pandas_dataset['posted'].str.replace('Posted ', '', 1)\n",
    "pandas_dataset['posted'] = pandas_dataset['posted'].str.replace(',', '', 1)\n",
    "pandas_dataset['posted'] = pandas_dataset['posted'].str.replace('.', '', 1)\n"
   ]
  },
  {
   "cell_type": "code",
   "execution_count": 31,
   "metadata": {},
   "outputs": [
    {
     "data": {
      "text/html": [
       "<div>\n",
       "<style scoped>\n",
       "    .dataframe tbody tr th:only-of-type {\n",
       "        vertical-align: middle;\n",
       "    }\n",
       "\n",
       "    .dataframe tbody tr th {\n",
       "        vertical-align: top;\n",
       "    }\n",
       "\n",
       "    .dataframe thead th {\n",
       "        text-align: right;\n",
       "    }\n",
       "</style>\n",
       "<table border=\"1\" class=\"dataframe\">\n",
       "  <thead>\n",
       "    <tr style=\"text-align: right;\">\n",
       "      <th></th>\n",
       "      <th>user_id</th>\n",
       "      <th>posted</th>\n",
       "      <th>item_id</th>\n",
       "      <th>sentiment</th>\n",
       "    </tr>\n",
       "  </thead>\n",
       "  <tbody>\n",
       "    <tr>\n",
       "      <th>0</th>\n",
       "      <td>76561197970982479</td>\n",
       "      <td>November 5 2011</td>\n",
       "      <td>1250</td>\n",
       "      <td>buena</td>\n",
       "    </tr>\n",
       "    <tr>\n",
       "      <th>1</th>\n",
       "      <td>76561197970982479</td>\n",
       "      <td>July 15 2011</td>\n",
       "      <td>22200</td>\n",
       "      <td>buena</td>\n",
       "    </tr>\n",
       "    <tr>\n",
       "      <th>2</th>\n",
       "      <td>76561197970982479</td>\n",
       "      <td>April 21 2011</td>\n",
       "      <td>43110</td>\n",
       "      <td>buena</td>\n",
       "    </tr>\n",
       "    <tr>\n",
       "      <th>3</th>\n",
       "      <td>js41637</td>\n",
       "      <td>June 24 2014</td>\n",
       "      <td>251610</td>\n",
       "      <td>buena</td>\n",
       "    </tr>\n",
       "    <tr>\n",
       "      <th>4</th>\n",
       "      <td>js41637</td>\n",
       "      <td>September 8 2013</td>\n",
       "      <td>227300</td>\n",
       "      <td>mala</td>\n",
       "    </tr>\n",
       "    <tr>\n",
       "      <th>...</th>\n",
       "      <td>...</td>\n",
       "      <td>...</td>\n",
       "      <td>...</td>\n",
       "      <td>...</td>\n",
       "    </tr>\n",
       "    <tr>\n",
       "      <th>56637</th>\n",
       "      <td>76561198312638244</td>\n",
       "      <td>July 10</td>\n",
       "      <td>70</td>\n",
       "      <td>buena</td>\n",
       "    </tr>\n",
       "    <tr>\n",
       "      <th>56638</th>\n",
       "      <td>76561198312638244</td>\n",
       "      <td>July 8</td>\n",
       "      <td>362890</td>\n",
       "      <td>buena</td>\n",
       "    </tr>\n",
       "    <tr>\n",
       "      <th>56639</th>\n",
       "      <td>LydiaMorley</td>\n",
       "      <td>July 3</td>\n",
       "      <td>273110</td>\n",
       "      <td>buena</td>\n",
       "    </tr>\n",
       "    <tr>\n",
       "      <th>56640</th>\n",
       "      <td>LydiaMorley</td>\n",
       "      <td>July 20</td>\n",
       "      <td>730</td>\n",
       "      <td>neutral</td>\n",
       "    </tr>\n",
       "    <tr>\n",
       "      <th>56641</th>\n",
       "      <td>LydiaMorley</td>\n",
       "      <td>July 2</td>\n",
       "      <td>440</td>\n",
       "      <td>buena</td>\n",
       "    </tr>\n",
       "  </tbody>\n",
       "</table>\n",
       "<p>56642 rows × 4 columns</p>\n",
       "</div>"
      ],
      "text/plain": [
       "                 user_id            posted item_id sentiment\n",
       "0      76561197970982479   November 5 2011    1250     buena\n",
       "1      76561197970982479      July 15 2011   22200     buena\n",
       "2      76561197970982479     April 21 2011   43110     buena\n",
       "3                js41637      June 24 2014  251610     buena\n",
       "4                js41637  September 8 2013  227300      mala\n",
       "...                  ...               ...     ...       ...\n",
       "56637  76561198312638244           July 10      70     buena\n",
       "56638  76561198312638244            July 8  362890     buena\n",
       "56639        LydiaMorley            July 3  273110     buena\n",
       "56640        LydiaMorley           July 20     730   neutral\n",
       "56641        LydiaMorley            July 2     440     buena\n",
       "\n",
       "[56642 rows x 4 columns]"
      ]
     },
     "execution_count": 31,
     "metadata": {},
     "output_type": "execute_result"
    }
   ],
   "source": [
    "pandas_dataset"
   ]
  },
  {
   "cell_type": "markdown",
   "metadata": {},
   "source": [
    "hago una extraccion de la columna posted de aquellos que tienen 4 cifras    convierto a 0 las que dan Nan   y luego limpio  esas   todas estas modificaciones son para evitar  problemas en la construccion de la APi"
   ]
  },
  {
   "cell_type": "code",
   "execution_count": 32,
   "metadata": {},
   "outputs": [],
   "source": [
    "pandas_dataset['year'] = pandas_dataset['posted'].str.extract('(\\d{4})')\n",
    "pandas_dataset['year'] = pandas_dataset['year'].fillna('0').astype(int)\n",
    "pandas_dataset = pandas_dataset[pandas_dataset['year'] != 0]  # con esta fila saco las que teiene cero \n"
   ]
  },
  {
   "cell_type": "code",
   "execution_count": 33,
   "metadata": {},
   "outputs": [
    {
     "data": {
      "text/html": [
       "<div>\n",
       "<style scoped>\n",
       "    .dataframe tbody tr th:only-of-type {\n",
       "        vertical-align: middle;\n",
       "    }\n",
       "\n",
       "    .dataframe tbody tr th {\n",
       "        vertical-align: top;\n",
       "    }\n",
       "\n",
       "    .dataframe thead th {\n",
       "        text-align: right;\n",
       "    }\n",
       "</style>\n",
       "<table border=\"1\" class=\"dataframe\">\n",
       "  <thead>\n",
       "    <tr style=\"text-align: right;\">\n",
       "      <th></th>\n",
       "      <th>user_id</th>\n",
       "      <th>posted</th>\n",
       "      <th>item_id</th>\n",
       "      <th>sentiment</th>\n",
       "      <th>year</th>\n",
       "    </tr>\n",
       "  </thead>\n",
       "  <tbody>\n",
       "    <tr>\n",
       "      <th>0</th>\n",
       "      <td>76561197970982479</td>\n",
       "      <td>November 5 2011</td>\n",
       "      <td>1250</td>\n",
       "      <td>buena</td>\n",
       "      <td>2011</td>\n",
       "    </tr>\n",
       "    <tr>\n",
       "      <th>1</th>\n",
       "      <td>76561197970982479</td>\n",
       "      <td>July 15 2011</td>\n",
       "      <td>22200</td>\n",
       "      <td>buena</td>\n",
       "      <td>2011</td>\n",
       "    </tr>\n",
       "    <tr>\n",
       "      <th>2</th>\n",
       "      <td>76561197970982479</td>\n",
       "      <td>April 21 2011</td>\n",
       "      <td>43110</td>\n",
       "      <td>buena</td>\n",
       "      <td>2011</td>\n",
       "    </tr>\n",
       "    <tr>\n",
       "      <th>3</th>\n",
       "      <td>js41637</td>\n",
       "      <td>June 24 2014</td>\n",
       "      <td>251610</td>\n",
       "      <td>buena</td>\n",
       "      <td>2014</td>\n",
       "    </tr>\n",
       "    <tr>\n",
       "      <th>4</th>\n",
       "      <td>js41637</td>\n",
       "      <td>September 8 2013</td>\n",
       "      <td>227300</td>\n",
       "      <td>mala</td>\n",
       "      <td>2013</td>\n",
       "    </tr>\n",
       "    <tr>\n",
       "      <th>...</th>\n",
       "      <td>...</td>\n",
       "      <td>...</td>\n",
       "      <td>...</td>\n",
       "      <td>...</td>\n",
       "      <td>...</td>\n",
       "    </tr>\n",
       "    <tr>\n",
       "      <th>56589</th>\n",
       "      <td>wayfeng</td>\n",
       "      <td>October 14 2015</td>\n",
       "      <td>730</td>\n",
       "      <td>neutral</td>\n",
       "      <td>2015</td>\n",
       "    </tr>\n",
       "    <tr>\n",
       "      <th>56592</th>\n",
       "      <td>76561198251004808</td>\n",
       "      <td>October 10 2015</td>\n",
       "      <td>253980</td>\n",
       "      <td>buena</td>\n",
       "      <td>2015</td>\n",
       "    </tr>\n",
       "    <tr>\n",
       "      <th>56602</th>\n",
       "      <td>72947282842</td>\n",
       "      <td>October 31 2015</td>\n",
       "      <td>730</td>\n",
       "      <td>mala</td>\n",
       "      <td>2015</td>\n",
       "    </tr>\n",
       "    <tr>\n",
       "      <th>56604</th>\n",
       "      <td>ApxLGhost</td>\n",
       "      <td>December 14 2015</td>\n",
       "      <td>730</td>\n",
       "      <td>buena</td>\n",
       "      <td>2015</td>\n",
       "    </tr>\n",
       "    <tr>\n",
       "      <th>56613</th>\n",
       "      <td>76561198267374962</td>\n",
       "      <td>December 29 2015</td>\n",
       "      <td>369200</td>\n",
       "      <td>buena</td>\n",
       "      <td>2015</td>\n",
       "    </tr>\n",
       "  </tbody>\n",
       "</table>\n",
       "<p>47054 rows × 5 columns</p>\n",
       "</div>"
      ],
      "text/plain": [
       "                 user_id            posted item_id sentiment  year\n",
       "0      76561197970982479   November 5 2011    1250     buena  2011\n",
       "1      76561197970982479      July 15 2011   22200     buena  2011\n",
       "2      76561197970982479     April 21 2011   43110     buena  2011\n",
       "3                js41637      June 24 2014  251610     buena  2014\n",
       "4                js41637  September 8 2013  227300      mala  2013\n",
       "...                  ...               ...     ...       ...   ...\n",
       "56589            wayfeng   October 14 2015     730   neutral  2015\n",
       "56592  76561198251004808   October 10 2015  253980     buena  2015\n",
       "56602        72947282842   October 31 2015     730      mala  2015\n",
       "56604          ApxLGhost  December 14 2015     730     buena  2015\n",
       "56613  76561198267374962  December 29 2015  369200     buena  2015\n",
       "\n",
       "[47054 rows x 5 columns]"
      ]
     },
     "execution_count": 33,
     "metadata": {},
     "output_type": "execute_result"
    }
   ],
   "source": [
    "pandas_dataset"
   ]
  },
  {
   "cell_type": "code",
   "execution_count": 34,
   "metadata": {},
   "outputs": [
    {
     "data": {
      "image/png": "[encoded data removed]",
      "text/plain": [
       "<Figure size 640x480 with 1 Axes>"
      ]
     },
     "metadata": {},
     "output_type": "display_data"
    }
   ],
   "source": [
    "\n",
    "\n",
    "\n",
    "# Gráfico del total de sentimientos positivos, neutrales y negativos\n",
    "sentimientos = pandas_dataset['sentiment'].value_counts()\n",
    "sentimientos.plot(kind='bar')\n",
    "plt.xlabel('Sentimiento')\n",
    "plt.ylabel('Total')\n",
    "plt.title('Total de sentimientos positivos, neutrales y negativos')\n",
    "plt.show()\n",
    "\n"
   ]
  },
  {
   "cell_type": "code",
   "execution_count": 35,
   "metadata": {},
   "outputs": [
    {
     "data": {
      "image/png": "[encoded data removed]",
      "text/plain": [
       "<Figure size 640x480 with 1 Axes>"
      ]
     },
     "metadata": {},
     "output_type": "display_data"
    }
   ],
   "source": [
    "\n",
    "\n",
    "\n",
    "# Calcular la cantidad de posteos por año\n",
    "posteos_por_año = pandas_dataset['year'].value_counts()\n",
    "\n",
    "# Crear un gráfico de barras de la cantidad de posteos por año\n",
    "posteos_por_año.sort_index().plot(kind='bar')\n",
    "plt.xlabel('Año')\n",
    "plt.ylabel('Cantidad de posteos')\n",
    "plt.title('Cantidad de posteos por año')\n",
    "plt.show()\n"
   ]
  },
  {
   "cell_type": "markdown",
   "metadata": {},
   "source": [
    "buscamos outliers de cantidad de posteos por año, solo para tener en cuenta nada mas...."
   ]
  },
  {
   "cell_type": "code",
   "execution_count": 36,
   "metadata": {},
   "outputs": [
    {
     "data": {
      "image/png": "[encoded data removed]",
      "text/plain": [
       "<Figure size 1200x600 with 1 Axes>"
      ]
     },
     "metadata": {},
     "output_type": "display_data"
    }
   ],
   "source": [
    "# Calcular la cantidad de posteos por usuario y por año\n",
    "posteos_por_usuario_y_año = pandas_dataset.groupby(['user_id', 'year']).size().reset_index(name='cantidad_de_posteos')\n",
    "\n",
    "\n",
    "plt.figure(figsize=(12, 6))\n",
    "sns.boxplot(x='year', y='cantidad_de_posteos', data=posteos_por_usuario_y_año)\n",
    "plt.xlabel('Año')\n",
    "plt.ylabel('Cantidad de posteos')\n",
    "plt.title('Cantidad de posteos por usuario y por año')\n",
    "plt.show()"
   ]
  },
  {
   "cell_type": "code",
   "execution_count": 37,
   "metadata": {},
   "outputs": [
    {
     "name": "stdout",
     "output_type": "stream",
     "text": [
      "                 user_id  year  cantidad_de_posteos\n",
      "23068             farsel  2010                    5\n",
      "15838             Hawkez  2011                   10\n",
      "14333             Corber  2012                    8\n",
      "9876   76561198083857294  2013                   10\n",
      "6104   76561198063316459  2014                   16\n",
      "17882      OfficialSenix  2015                   18\n"
     ]
    }
   ],
   "source": [
    "posteos_por_usuario_y_año = pandas_dataset.groupby(['user_id', 'year']).size().reset_index(name='cantidad_de_posteos')\n",
    "\n",
    "usuario_mas_posteos_por_año = posteos_por_usuario_y_año.loc[posteos_por_usuario_y_año.groupby('year')['cantidad_de_posteos'].idxmax()]\n",
    "print(usuario_mas_posteos_por_año)"
   ]
  },
  {
   "cell_type": "code",
   "execution_count": 38,
   "metadata": {},
   "outputs": [],
   "source": [
    "pandas_dataset = pandas_dataset.drop('posted', axis=1)"
   ]
  },
  {
   "cell_type": "code",
   "execution_count": 39,
   "metadata": {},
   "outputs": [
    {
     "data": {
      "text/html": [
       "<div>\n",
       "<style scoped>\n",
       "    .dataframe tbody tr th:only-of-type {\n",
       "        vertical-align: middle;\n",
       "    }\n",
       "\n",
       "    .dataframe tbody tr th {\n",
       "        vertical-align: top;\n",
       "    }\n",
       "\n",
       "    .dataframe thead th {\n",
       "        text-align: right;\n",
       "    }\n",
       "</style>\n",
       "<table border=\"1\" class=\"dataframe\">\n",
       "  <thead>\n",
       "    <tr style=\"text-align: right;\">\n",
       "      <th></th>\n",
       "      <th>user_id</th>\n",
       "      <th>item_id</th>\n",
       "      <th>sentiment</th>\n",
       "      <th>year</th>\n",
       "    </tr>\n",
       "  </thead>\n",
       "  <tbody>\n",
       "    <tr>\n",
       "      <th>0</th>\n",
       "      <td>76561197970982479</td>\n",
       "      <td>1250</td>\n",
       "      <td>buena</td>\n",
       "      <td>2011</td>\n",
       "    </tr>\n",
       "    <tr>\n",
       "      <th>1</th>\n",
       "      <td>76561197970982479</td>\n",
       "      <td>22200</td>\n",
       "      <td>buena</td>\n",
       "      <td>2011</td>\n",
       "    </tr>\n",
       "    <tr>\n",
       "      <th>2</th>\n",
       "      <td>76561197970982479</td>\n",
       "      <td>43110</td>\n",
       "      <td>buena</td>\n",
       "      <td>2011</td>\n",
       "    </tr>\n",
       "    <tr>\n",
       "      <th>3</th>\n",
       "      <td>js41637</td>\n",
       "      <td>251610</td>\n",
       "      <td>buena</td>\n",
       "      <td>2014</td>\n",
       "    </tr>\n",
       "    <tr>\n",
       "      <th>4</th>\n",
       "      <td>js41637</td>\n",
       "      <td>227300</td>\n",
       "      <td>mala</td>\n",
       "      <td>2013</td>\n",
       "    </tr>\n",
       "    <tr>\n",
       "      <th>...</th>\n",
       "      <td>...</td>\n",
       "      <td>...</td>\n",
       "      <td>...</td>\n",
       "      <td>...</td>\n",
       "    </tr>\n",
       "    <tr>\n",
       "      <th>56589</th>\n",
       "      <td>wayfeng</td>\n",
       "      <td>730</td>\n",
       "      <td>neutral</td>\n",
       "      <td>2015</td>\n",
       "    </tr>\n",
       "    <tr>\n",
       "      <th>56592</th>\n",
       "      <td>76561198251004808</td>\n",
       "      <td>253980</td>\n",
       "      <td>buena</td>\n",
       "      <td>2015</td>\n",
       "    </tr>\n",
       "    <tr>\n",
       "      <th>56602</th>\n",
       "      <td>72947282842</td>\n",
       "      <td>730</td>\n",
       "      <td>mala</td>\n",
       "      <td>2015</td>\n",
       "    </tr>\n",
       "    <tr>\n",
       "      <th>56604</th>\n",
       "      <td>ApxLGhost</td>\n",
       "      <td>730</td>\n",
       "      <td>buena</td>\n",
       "      <td>2015</td>\n",
       "    </tr>\n",
       "    <tr>\n",
       "      <th>56613</th>\n",
       "      <td>76561198267374962</td>\n",
       "      <td>369200</td>\n",
       "      <td>buena</td>\n",
       "      <td>2015</td>\n",
       "    </tr>\n",
       "  </tbody>\n",
       "</table>\n",
       "<p>47054 rows × 4 columns</p>\n",
       "</div>"
      ],
      "text/plain": [
       "                 user_id item_id sentiment  year\n",
       "0      76561197970982479    1250     buena  2011\n",
       "1      76561197970982479   22200     buena  2011\n",
       "2      76561197970982479   43110     buena  2011\n",
       "3                js41637  251610     buena  2014\n",
       "4                js41637  227300      mala  2013\n",
       "...                  ...     ...       ...   ...\n",
       "56589            wayfeng     730   neutral  2015\n",
       "56592  76561198251004808  253980     buena  2015\n",
       "56602        72947282842     730      mala  2015\n",
       "56604          ApxLGhost     730     buena  2015\n",
       "56613  76561198267374962  369200     buena  2015\n",
       "\n",
       "[47054 rows x 4 columns]"
      ]
     },
     "execution_count": 39,
     "metadata": {},
     "output_type": "execute_result"
    }
   ],
   "source": [
    "pandas_dataset"
   ]
  },
  {
   "cell_type": "code",
   "execution_count": 40,
   "metadata": {},
   "outputs": [
    {
     "name": "stdout",
     "output_type": "stream",
     "text": [
      "22223\n"
     ]
    }
   ],
   "source": [
    "conteo_usuarios  = pandas_dataset['user_id'].nunique()\n",
    "print(conteo_usuarios)"
   ]
  },
  {
   "cell_type": "code",
   "execution_count": 41,
   "metadata": {},
   "outputs": [
    {
     "data": {
      "image/png": "[encoded data removed]",
      "text/plain": [
       "<Figure size 640x480 with 1 Axes>"
      ]
     },
     "metadata": {},
     "output_type": "display_data"
    }
   ],
   "source": [
    "total_usuarios = 25798\n",
    "usuarios_restantes = 22223\n",
    "usuarios_perdidos = total_usuarios - usuarios_restantes\n",
    "porcentaje_usuarios_restantes = (usuarios_restantes/total_usuarios)*100\n",
    "porcentaje_usuarios_perdidos = (usuarios_perdidos/total_usuarios)*100\n",
    "labels = ['Usuarios restantes', 'Usuarios perdidos en limpieza']\n",
    "sizes = [porcentaje_usuarios_restantes, porcentaje_usuarios_perdidos]\n",
    "fig1, ax1 = plt.subplots()\n",
    "ax1.pie(sizes, labels=labels, autopct='%1.1f%%', startangle=90)\n",
    "ax1.axis('equal')\n",
    "\n",
    "plt.show()\n"
   ]
  },
  {
   "cell_type": "code",
   "execution_count": null,
   "metadata": {},
   "outputs": [],
   "source": [
    "#pandas_dataset.to_csv('user_review_final.csv', index=False)"
   ]
  }
 ],
 "metadata": {
  "kernelspec": {
   "display_name": "Python 3",
   "language": "python",
   "name": "python3"
  },
  "language_info": {
   "codemirror_mode": {
    "name": "ipython",
    "version": 3
   },
   "file_extension": ".py",
   "mimetype": "text/x-python",
   "name": "python",
   "nbconvert_exporter": "python",
   "pygments_lexer": "ipython3",
   "version": "3.11.5"
  }
 },
 "nbformat": 4,
 "nbformat_minor": 2
}
